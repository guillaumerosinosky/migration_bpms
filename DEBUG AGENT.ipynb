{
 "cells": [
  {
   "cell_type": "code",
   "execution_count": 1,
   "metadata": {},
   "outputs": [],
   "source": [
    "import subprocess\n",
    "import shlex\n",
    "\n",
    "def run_command(command):\n",
    "    print(\"Launch \" + command)\n",
    "    process = subprocess.Popen(shlex.split(command), stdout=subprocess.PIPE, stderr=subprocess.STDOUT)\n",
    "    while True:\n",
    "        output = process.stdout.readline().decode()\n",
    "        if output == '' and process.poll() is not None:\n",
    "            break\n",
    "        if output:\n",
    "            print (output.strip())\n",
    "    rc = process.poll()\n",
    "    return rc\n",
    "import os\n",
    "\n",
    "class cd:\n",
    "    \"\"\"Context manager for changing the current working directory\"\"\"\n",
    "    def __init__(self, newPath):\n",
    "        self.newPath = os.path.expanduser(newPath)\n",
    "\n",
    "    def __enter__(self):\n",
    "        self.savedPath = os.getcwd()\n",
    "        os.chdir(self.newPath)\n",
    "\n",
    "    def __exit__(self, etype, value, traceback):\n",
    "        os.chdir(self.savedPath)"
   ]
  },
  {
   "cell_type": "code",
   "execution_count": 2,
   "metadata": {},
   "outputs": [
    {
     "name": "stderr",
     "output_type": "stream",
     "text": [
      "/usr/local/lib/python3.5/dist-packages/psycopg2/__init__.py:144: UserWarning: The psycopg2 wheel package will be renamed from release 2.8; in order to keep installing from binary please use \"pip install psycopg2-binary\" instead. For details see: <http://initd.org/psycopg/docs/install.html#binary-install-from-pypi>.\n",
      "  \"\"\")\n"
     ]
    }
   ],
   "source": [
    "import datetime\n",
    "from dateutil.tz import tzlocal\n",
    "import pandas as pd\n",
    "import psycopg2\n",
    "import matplotlib.pyplot as plt \n",
    "\n",
    "def get_df_process(host):\n",
    "    host=\"vm-vmonly-db-from1\"\n",
    "    port=5432\n",
    "    login=\"bonitauser\"\n",
    "    password=\"migrationTestDb_18\"\n",
    "    dbname=\"bonitadb\"\n",
    "    conn = psycopg2.connect(\"host = '{0}' dbname = '{1}' user = '{2}' password = '{3}' port = {4}\".\n",
    "             format(host, dbname, login, password, port))\n",
    "    sql = \"select api_id.sourceobjectid as id, to_timestamp(api_begin.startdate::float/1000) as start, to_timestamp(api_end.enddate::float/1000) as end, api_end.enddate - api_begin.startdate as duration \\n\"\\\n",
    "    \"from ( \\n\"\\\n",
    "    \"\tselect distinct sourceobjectid \\n\"\\\n",
    "    \"\tfrom arch_process_instance api) as api_id \\n\"\\\n",
    "    \"join arch_process_instance api_begin on api_id.sourceobjectid = api_begin.sourceobjectid and api_begin.stateid = 0 \\n\"\\\n",
    "    \"left join arch_process_instance api_end on api_id.sourceobjectid = api_end.sourceobjectid and api_end.stateid = 6 \\n\"\\\n",
    "    \"order by id\"\n",
    "    cur = conn.cursor()\n",
    "    cur.execute(sql)\n",
    "    df = pd.DataFrame(cur.fetchall(), columns=[\"id\", \"start\", \"end\", \"duration\"])\n",
    "    return df"
   ]
  },
  {
   "cell_type": "markdown",
   "metadata": {},
   "source": [
    "### Initialize result name, Start Faban and reset Docker"
   ]
  },
  {
   "cell_type": "code",
   "execution_count": 3,
   "metadata": {},
   "outputs": [
    {
     "name": "stdout",
     "output_type": "stream",
     "text": [
      "Migration result name : xp2_migr_20180615132957\n",
      "Launch ./shutdown.sh\n",
      "Launch ./startup.sh\n",
      "Starting Faban Server\n",
      "Please point your browser to http://127.0.0.1:9980/\n",
      "Launch ./reset_docker.sh\n",
      "Removing service 4xlujqozyr1PobRVrErvLAwu5hgkbGfh_bonita-from\n",
      "Removing service 4xlujqozyr1PobRVrErvLAwu5hgkbGfh_bonita-to\n",
      "Removing service 4xlujqozyr1PobRVrErvLAwu5hgkbGfh_db-from\n",
      "Removing service 4xlujqozyr1PobRVrErvLAwu5hgkbGfh_db-ref\n",
      "Removing service 4xlujqozyr1PobRVrErvLAwu5hgkbGfh_db-to\n",
      "Removing service 4xlujqozyr1PobRVrErvLAwu5hgkbGfh_start_dependencies\n",
      "Removing network 4xlujqozyr1PobRVrErvLAwu5hgkbGfh_default\n"
     ]
    },
    {
     "data": {
      "text/plain": [
       "0"
      ]
     },
     "execution_count": 3,
     "metadata": {},
     "output_type": "execute_result"
    }
   ],
   "source": [
    "# \n",
    "\n",
    "now=datetime.datetime.now(tzlocal())\n",
    "strnow = now.strftime(\"%Y%m%d%H%M%S\")\n",
    "migration_result_name = \"xp2_migr_{0}\".format(strnow)\n",
    "print (\"Migration result name : \" + migration_result_name)\n",
    "with cd(\"./test_executor/faban/master/bin\"):\n",
    "    run_command(\"./shutdown.sh\")\n",
    "    run_command(\"./startup.sh\")\n",
    "\n",
    "\n",
    "run_command(\"./reset_docker.sh\")\n",
    "    "
   ]
  },
  {
   "cell_type": "markdown",
   "metadata": {},
   "source": [
    "### Provision and test for various numbers of processes"
   ]
  },
  {
   "cell_type": "code",
   "execution_count": 26,
   "metadata": {},
   "outputs": [
    {
     "name": "stdout",
     "output_type": "stream",
     "text": [
      "Launch ./reset_docker.sh\n",
      "Removing service tI7SMd7l8t2SWr2YYyxW0MpOn6h8SLgV_bonita-from\n",
      "Removing service tI7SMd7l8t2SWr2YYyxW0MpOn6h8SLgV_bonita-to\n",
      "Removing service tI7SMd7l8t2SWr2YYyxW0MpOn6h8SLgV_db-from\n",
      "Removing service tI7SMd7l8t2SWr2YYyxW0MpOn6h8SLgV_db-ref\n",
      "Removing service tI7SMd7l8t2SWr2YYyxW0MpOn6h8SLgV_db-to\n",
      "Removing service tI7SMd7l8t2SWr2YYyxW0MpOn6h8SLgV_start_dependencies\n",
      "Removing network tI7SMd7l8t2SWr2YYyxW0MpOn6h8SLgV_default\n"
     ]
    },
    {
     "data": {
      "text/plain": [
       "0"
      ]
     },
     "execution_count": 26,
     "metadata": {},
     "output_type": "execute_result"
    }
   ],
   "source": [
    "run_command(\"./reset_docker.sh\")"
   ]
  },
  {
   "cell_type": "code",
   "execution_count": 27,
   "metadata": {
    "scrolled": true
   },
   "outputs": [
    {
     "name": "stdout",
     "output_type": "stream",
     "text": [
      "Launch ./reset_docker.sh\n",
      "\"docker stack rm\" requires at least 1 argument.\n",
      "See 'docker stack rm --help'.\n",
      "\n",
      "Usage:  docker stack rm STACK [STACK...] [flags]\n",
      "\n",
      "Remove one or more stacks\n",
      "Launch ./benchflow_onlytest.sh generate_test 5 TestHumanTask-1.0.bar 5 30 0 tenant1\n",
      "The generated test ID is 2zABTYlIQhVI6CUzfW1Pr7Tu2A8bUgfu\n",
      "Compiling the Faban driver\n",
      "Buildfile: /home/ubuntu/scripts_gr/test_executor/drivers/2zABTYlIQhVI6CUzfW1Pr7Tu2A8bUgfu/build.xml\n",
      "\n",
      "init:\n",
      "[mkdir] Created dir: /home/ubuntu/scripts_gr/test_executor/drivers/2zABTYlIQhVI6CUzfW1Pr7Tu2A8bUgfu/build/classes\n",
      "\n",
      "compile:\n",
      "[javac] Compiling 1 source file to /home/ubuntu/scripts_gr/test_executor/drivers/2zABTYlIQhVI6CUzfW1Pr7Tu2A8bUgfu/build/classes\n",
      "[javac] warning: [options] bootstrap class path not set in conjunction with -source 1.7\n",
      "[javac] 1 warning\n",
      "\n",
      "bench.jar:\n",
      "[mkdir] Created dir: /home/ubuntu/scripts_gr/test_executor/drivers/2zABTYlIQhVI6CUzfW1Pr7Tu2A8bUgfu/build/lib\n",
      "[jar] Building jar: /home/ubuntu/scripts_gr/test_executor/drivers/2zABTYlIQhVI6CUzfW1Pr7Tu2A8bUgfu/build/lib/2zABTYlIQhVI6CUzfW1Pr7Tu2A8bUgfu.jar\n",
      "\n",
      "deploy.jar:\n",
      "[jar] Building jar: /home/ubuntu/scripts_gr/test_executor/drivers/2zABTYlIQhVI6CUzfW1Pr7Tu2A8bUgfu/build/2zABTYlIQhVI6CUzfW1Pr7Tu2A8bUgfu.jar\n",
      "\n",
      "BUILD SUCCESSFUL\n",
      "Total time: 1 second\n",
      "Launch ./benchflow_onlytest.sh execute_tests deploy\n",
      "deploy\n",
      "Starting test: 2zABTYlIQhVI6CUzfW1Pr7Tu2A8bUgfu\n",
      "Deploying the system under test\n",
      "Ignoring unsupported options: restart\n",
      "\n",
      "Creating network 2zABTYlIQhVI6CUzfW1Pr7Tu2A8bUgfu_default\n",
      "Creating service 2zABTYlIQhVI6CUzfW1Pr7Tu2A8bUgfu_db-ref\n",
      "Creating service 2zABTYlIQhVI6CUzfW1Pr7Tu2A8bUgfu_db-from\n",
      "Creating service 2zABTYlIQhVI6CUzfW1Pr7Tu2A8bUgfu_bonita-from\n",
      "Creating service 2zABTYlIQhVI6CUzfW1Pr7Tu2A8bUgfu_db-to\n",
      "Creating service 2zABTYlIQhVI6CUzfW1Pr7Tu2A8bUgfu_bonita-to\n",
      "Creating service 2zABTYlIQhVI6CUzfW1Pr7Tu2A8bUgfu_start_dependencies\n",
      "Waiting for the system to be ready\n",
      "Deploying the load driver\n",
      "Run ID: 2zABTYlIQhVI6CUzfW1Pr7Tu2A8bUgfu.12L\n",
      "Data collection disabled:\n",
      "\n",
      "Waiting for the test to be completed\n",
      "Current STATUS: STARTED\n",
      "Current STATUS: STARTED\n",
      "Current STATUS: STARTED\n",
      "Current STATUS: STARTED\n",
      "Current STATUS: STARTED\n",
      "Current STATUS: STARTED\n",
      "Current STATUS: COMPLETED\n",
      "Data collection disabled:\n",
      "\n",
      "Saving test results\n",
      "% Total    % Received % Xferd  Average Speed   Time    Time     Time  Current\n",
      "Dload  Upload   Total   Spent    Left  Speed\n",
      "100  2130    0  2130    0     0   490k      0 --:--:-- --:--:-- --:--:--  520k\n",
      "% Total    % Received % Xferd  Average Speed   Time    Time     Time  Current\n",
      "Dload  Upload   Total   Spent    Left  Speed\n",
      "100 22557    0 22557    0     0  10.8M      0 --:--:-- --:--:-- --:--:-- 21.5M\n",
      "% Total    % Received % Xferd  Average Speed   Time    Time     Time  Current\n",
      "Dload  Upload   Total   Spent    Left  Speed\n",
      "100 3747k    0 3747k    0     0   285M      0 --:--:-- --:--:-- --:--:--  304M\n"
     ]
    }
   ],
   "source": [
    "# provision and test\n",
    "\n",
    "file = open(\"{0}.csv\".format(migration_result_name), \"w\")\n",
    "file.write(\"ts,nb,duration_disable,duration_move,duration_enable,duration_total\\n\")\n",
    "file.close()\n",
    "\n",
    "run_command(\"./reset_docker.sh\")\n",
    "dur = 30\n",
    "#run_command(\"./launch_agents.sh http://vm-vmonly-bpms-from1:8080/bonita\")\n",
    "with cd (\"./test_executor\"):\n",
    "    run_command(\"./benchflow_onlytest.sh generate_test 5 TestHumanTask-1.0.bar 5 {0} 0 tenant1\".format(dur))\n",
    "\n",
    "    run_command(\"./benchflow_onlytest.sh execute_tests deploy\")"
   ]
  },
  {
   "cell_type": "code",
   "execution_count": null,
   "metadata": {},
   "outputs": [],
   "source": [
    "res1 = run_command(\"./migrate.sh tenant1 {0}\".format(migration_result_name))\n",
    "if (res1 !=0):\n",
    "    print(\"Error in first migration.. skipping\")\n",
    "df_pre = get_df_process(\"vm-vmonly-db-from1\")\n",
    "#df_pre.plot(x=\"start\", y=\"duration\", style=\".\")\n",
    "\n"
   ]
  },
  {
   "cell_type": "code",
   "execution_count": null,
   "metadata": {},
   "outputs": [],
   "source": [
    "date_postmigr = datetime.datetime.now(tzlocal())\n",
    "\n",
    "run_command(\"./launch_agents.sh http://vm-vmonly-bpms-to1:8081/bonita\")\n",
    "with cd (\"./test_executor\"):\n",
    "    run_command(\"./benchflow_onlytest.sh generate_test 5 TestHumanTask-1.0.bar 5 {0} 0 tenant1 config2.properties\".format(dur))\n",
    "\n",
    "    run_command(\"./benchflow_onlytest.sh execute_tests\")\n",
    "\n",
    "df = get_df_process(\"vm-vmonly-db-from1\")\n",
    "\n",
    "df_pre = df[df[\"start\"] < date_postmigr]\n",
    "df_post = df[df[\"start\"] >= date_postmigr]\n",
    "\n",
    "df_pre.to_csv(\"{0}_pre_{1}.csv\".format(migration_result_name ,i))\n",
    "df_post.to_csv(\"{0}_post_{1}.csv\".format(migration_result_name ,i))    \n",
    "\n",
    "df_pre[\"start\"] = df_pre[\"start\"] - min(df_pre[\"start\"])\n",
    "df_post[\"start\"] = df_post[\"start\"] - min(df_post[\"start\"])\n",
    "\n",
    "df_pre = df_pre.set_index(pd.DatetimeIndex(df_pre[\"start\"]))   \n",
    "df_post=df_post.set_index(pd.DatetimeIndex(df_post[\"start\"]))\n",
    "fig,ax = plt.subplots()\n",
    "#\n",
    "#\n",
    "\n",
    "df_pre.resample(\"1s\", how=\"mean\").plot(y=\"duration\", style=\"ro\",ax=ax)\n",
    "df_post.resample(\"1s\", how=\"mean\").plot( y=\"duration\", style=\"bx\",ax=ax)"
   ]
  }
 ],
 "metadata": {
  "kernelspec": {
   "display_name": "Python 3",
   "language": "python",
   "name": "python3"
  },
  "language_info": {
   "codemirror_mode": {
    "name": "ipython",
    "version": 3
   },
   "file_extension": ".py",
   "mimetype": "text/x-python",
   "name": "python",
   "nbconvert_exporter": "python",
   "pygments_lexer": "ipython3",
   "version": "3.5.2"
  }
 },
 "nbformat": 4,
 "nbformat_minor": 2
}
